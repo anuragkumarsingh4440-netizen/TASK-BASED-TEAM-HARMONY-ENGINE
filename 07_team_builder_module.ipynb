{
 "cells": [
  {
   "cell_type": "markdown",
   "id": "0a78afd6",
   "metadata": {},
   "source": [
    "# Purpose:\n",
    "Take a task name as input and recommend:\n",
    "- ✅ Best solo performer\n",
    "- ✅ Best 3-person team\n",
    "Based on skill match + synergy scores.\n"
   ]
  },
  {
   "cell_type": "code",
   "execution_count": 17,
   "id": "3bf04ea6",
   "metadata": {},
   "outputs": [],
   "source": [
    "def get_best_teams(task_name, top_n=3):\n",
    "    task_data = skills[skills[\"Task Name\"].str.lower() == task_name.lower()]\n",
    "    people = task_data[\"Employee Name\"].unique()\n",
    "    if len(people) < 3:\n",
    "        return \"Not enough employees for a team.\"\n",
    "\n",
    "    combos = list(combinations(people, 3))\n",
    "    team_results = []\n",
    "\n",
    "    for team in combos:\n",
    "        skill_sum = task_data[task_data[\"Employee Name\"].isin(team)][\"Match Score\"].sum()\n",
    "        synergy_sum = (\n",
    "            synergy_score(team[0], team[1]) +\n",
    "            synergy_score(team[0], team[2]) +\n",
    "            synergy_score(team[1], team[2])\n",
    "        )\n",
    "        total = skill_sum + synergy_sum\n",
    "        team_results.append({\n",
    "            \"Team\": \", \".join(team),\n",
    "            \"Skill Score\": skill_sum,\n",
    "            \"Synergy Score\": synergy_sum,\n",
    "            \"Total Score\": total,\n",
    "            \"Explanation\": f\"Skill: {skill_sum}, Synergy: {synergy_sum} → Total: {total}\"\n",
    "        })\n",
    "\n",
    "    df = pd.DataFrame(team_results)\n",
    "    return df.sort_values(by=\"Total Score\", ascending=False).head(top_n)[[\"Team\", \"Skill Score\", \"Synergy Score\", \"Total Score\", \"Explanation\"]]\n",
    "    "
   ]
  },
  {
   "cell_type": "code",
   "execution_count": 19,
   "id": "f8de8b20",
   "metadata": {},
   "outputs": [
    {
     "name": "stdout",
     "output_type": "stream",
     "text": [
      "🏆 Best Solo Performer:\n",
      "Empty DataFrame\n",
      "Columns: [Employee Name, Solo Score]\n",
      "Index: []\n",
      "\n",
      "👥 Top 3 Team Recommendations:\n",
      "Not enough employees for a team.\n"
     ]
    }
   ],
   "source": [
    "task = \"build login system\"\n",
    "\n",
    "print(\"🏆 Best Solo Performer:\")\n",
    "print(get_best_solo(task))\n",
    "\n",
    "print(\"\\n👥 Top 3 Team Recommendations:\")\n",
    "print(get_best_teams(task, top_n=3))"
   ]
  }
 ],
 "metadata": {
  "kernelspec": {
   "display_name": "Python 3",
   "language": "python",
   "name": "python3"
  },
  "language_info": {
   "codemirror_mode": {
    "name": "ipython",
    "version": 3
   },
   "file_extension": ".py",
   "mimetype": "text/x-python",
   "name": "python",
   "nbconvert_exporter": "python",
   "pygments_lexer": "ipython3",
   "version": "3.13.5"
  }
 },
 "nbformat": 4,
 "nbformat_minor": 5
}
