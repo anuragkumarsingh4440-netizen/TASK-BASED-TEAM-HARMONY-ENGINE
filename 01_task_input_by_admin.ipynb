{
 "cells": [
  {
   "cell_type": "code",
   "execution_count": 8,
   "id": "7b733a99",
   "metadata": {},
   "outputs": [
    {
     "name": "stdout",
     "output_type": "stream",
     "text": [
      "Welcome Admin — Let's define tasks for matching\n",
      "\n",
      "Enter Task Details\n"
     ]
    },
    {
     "ename": "ValueError",
     "evalue": "invalid literal for int() with base 10: ''",
     "output_type": "error",
     "traceback": [
      "\u001b[31m---------------------------------------------------------------------------\u001b[39m",
      "\u001b[31mValueError\u001b[39m                                Traceback (most recent call last)",
      "\u001b[36mCell\u001b[39m\u001b[36m \u001b[39m\u001b[32mIn[8]\u001b[39m\u001b[32m, line 14\u001b[39m\n\u001b[32m     12\u001b[39m required_skills = \u001b[38;5;28minput\u001b[39m(\u001b[33m\"\u001b[39m\u001b[33mRequired Skills (comma-separated): \u001b[39m\u001b[33m\"\u001b[39m).strip().lower()\n\u001b[32m     13\u001b[39m urgency = \u001b[38;5;28minput\u001b[39m(\u001b[33m\"\u001b[39m\u001b[33mUrgency Level (High, Medium, Low): \u001b[39m\u001b[33m\"\u001b[39m).strip().lower()\n\u001b[32m---> \u001b[39m\u001b[32m14\u001b[39m team_size = \u001b[38;5;28;43mint\u001b[39;49m\u001b[43m(\u001b[49m\u001b[38;5;28;43minput\u001b[39;49m\u001b[43m(\u001b[49m\u001b[33;43m\"\u001b[39;49m\u001b[33;43mPreferred Team Size (e.g. 1 for solo, 3 for small team): \u001b[39;49m\u001b[33;43m\"\u001b[39;49m\u001b[43m)\u001b[49m\u001b[43m)\u001b[49m\n\u001b[32m     15\u001b[39m solo_ok = \u001b[38;5;28minput\u001b[39m(\u001b[33m\"\u001b[39m\u001b[33mCan this task be done solo? Type \u001b[39m\u001b[33m'\u001b[39m\u001b[33myes\u001b[39m\u001b[33m'\u001b[39m\u001b[33m or \u001b[39m\u001b[33m'\u001b[39m\u001b[33mno\u001b[39m\u001b[33m'\u001b[39m\u001b[33m: \u001b[39m\u001b[33m\"\u001b[39m).strip().lower()\n\u001b[32m     17\u001b[39m task = {\n\u001b[32m     18\u001b[39m     \u001b[33m\"\u001b[39m\u001b[33mTask Name\u001b[39m\u001b[33m\"\u001b[39m: task_name,\n\u001b[32m     19\u001b[39m     \u001b[33m\"\u001b[39m\u001b[33mDescription\u001b[39m\u001b[33m\"\u001b[39m: description,\n\u001b[32m   (...)\u001b[39m\u001b[32m     23\u001b[39m     \u001b[33m\"\u001b[39m\u001b[33mSolo OK\u001b[39m\u001b[33m\"\u001b[39m: solo_ok\n\u001b[32m     24\u001b[39m }\n",
      "\u001b[31mValueError\u001b[39m: invalid literal for int() with base 10: ''"
     ]
    }
   ],
   "source": [
    "import pandas as pd  # For saving task data\n",
    "\n",
    "print(\"Welcome Admin — Let's define tasks for matching\")\n",
    "\n",
    "task_list = []\n",
    "\n",
    "while True:\n",
    "    print(\"\\nEnter Task Details\")\n",
    "\n",
    "    task_name = input(\"Task Name: \").strip().lower()\n",
    "    description = input(\"Short Description: \").strip().lower()\n",
    "    required_skills = input(\"Required Skills (comma-separated): \").strip().lower()\n",
    "    urgency = input(\"Urgency Level (High, Medium, Low): \").strip().lower()\n",
    "    team_size = int(input(\"Preferred Team Size (e.g. 1 for solo, 3 for small team): \"))\n",
    "    solo_ok = input(\"Can this task be done solo? Type 'yes' or 'no': \").strip().lower()\n",
    "\n",
    "    task = {\n",
    "        \"Task Name\": task_name,\n",
    "        \"Description\": description,\n",
    "        \"Required Skills\": required_skills,\n",
    "        \"Urgency\": urgency,\n",
    "        \"Team Size\": team_size,\n",
    "        \"Solo OK\": solo_ok\n",
    "    }\n",
    "\n",
    "    task_list.append(task)\n",
    "\n",
    "    more = input(\"Add another task? Type 'y' for yes or anything else to stop: \").strip().lower()\n",
    "    if more != 'y':\n",
    "        break\n",
    "\n",
    "# Save all tasks to CSV\n",
    "df = pd.DataFrame(task_list)\n",
    "df.to_csv(\"task_inputs.csv\", index=False)\n",
    "print(\"\\n✅ All tasks saved to task_inputs.csv\")"
   ]
  }
 ],
 "metadata": {
  "kernelspec": {
   "display_name": "Python 3",
   "language": "python",
   "name": "python3"
  },
  "language_info": {
   "codemirror_mode": {
    "name": "ipython",
    "version": 3
   },
   "file_extension": ".py",
   "mimetype": "text/x-python",
   "name": "python",
   "nbconvert_exporter": "python",
   "pygments_lexer": "ipython3",
   "version": "3.13.5"
  }
 },
 "nbformat": 4,
 "nbformat_minor": 5
}
