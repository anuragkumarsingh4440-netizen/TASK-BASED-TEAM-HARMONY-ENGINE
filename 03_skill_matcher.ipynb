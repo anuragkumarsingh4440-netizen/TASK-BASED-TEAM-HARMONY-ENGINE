{
 "cells": [
  {
   "cell_type": "markdown",
   "id": "82e486ed",
   "metadata": {},
   "source": [
    "Purpose:\n",
    "Match employee skills with task requirements:\n",
    "- Load employee_trait_scores.csv and task_inputs.csv\n",
    "- Compare skills (case-insensitive, comma-separated)\n",
    "- Count how many skills match\n",
    "- Save match scores for each employee-task pair\n"
   ]
  },
  {
   "cell_type": "code",
   "execution_count": 7,
   "id": "929a1dc5",
   "metadata": {},
   "outputs": [
    {
     "name": "stdout",
     "output_type": "stream",
     "text": [
      "✅ Skill match scores saved to skill_match_scores.csv\n"
     ]
    }
   ],
   "source": [
    "import pandas as pd\n",
    "\n",
    "# Load employee and task data\n",
    "employees = pd.read_csv(\"employee_trait_scores.csv\")\n",
    "tasks = pd.read_csv(\"task_inputs.csv\")\n",
    "\n",
    "# Function to calculate skill match score\n",
    "def match_score(emp_skills, task_skills):\n",
    "    emp_set = set([s.strip().lower() for s in emp_skills.split(\",\")])\n",
    "    task_set = set([s.strip().lower() for s in task_skills.split(\",\")])\n",
    "    return len(emp_set & task_set)  # count of matching skills\n",
    "\n",
    "# Create match results\n",
    "match_results = []\n",
    "\n",
    "for _, task in tasks.iterrows():\n",
    "    for _, emp in employees.iterrows():\n",
    "        score = match_score(emp[\"Skills\"], task[\"Required Skills\"])\n",
    "        match_results.append({\n",
    "            \"Employee Name\": emp[\"Name\"],\n",
    "            \"Task Name\": task[\"Task Name\"],\n",
    "            \"Match Score\": score,\n",
    "            \"Availability\": emp[\"Availability\"],\n",
    "            \"Personality Score\": emp[\"Personality Score\"],\n",
    "            \"Work Style Score\": emp[\"Work Style Score\"]\n",
    "        })\n",
    "\n",
    "# Save match results\n",
    "df_match = pd.DataFrame(match_results)\n",
    "df_match.to_csv(\"skill_match_scores.csv\", index=False)\n",
    "print(\"✅ Skill match scores saved to skill_match_scores.csv\")"
   ]
  }
 ],
 "metadata": {
  "kernelspec": {
   "display_name": "Python 3",
   "language": "python",
   "name": "python3"
  },
  "language_info": {
   "codemirror_mode": {
    "name": "ipython",
    "version": 3
   },
   "file_extension": ".py",
   "mimetype": "text/x-python",
   "name": "python",
   "nbconvert_exporter": "python",
   "pygments_lexer": "ipython3",
   "version": "3.13.5"
  }
 },
 "nbformat": 4,
 "nbformat_minor": 5
}
