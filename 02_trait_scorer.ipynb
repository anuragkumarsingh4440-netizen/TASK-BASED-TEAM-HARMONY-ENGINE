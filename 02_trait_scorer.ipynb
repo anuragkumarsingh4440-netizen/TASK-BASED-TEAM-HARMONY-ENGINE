{
 "cells": [
  {
   "cell_type": "markdown",
   "id": "a17d5915",
   "metadata": {},
   "source": [
    "Purpose:\n",
    "Score employee traits for synergy matching:\n",
    "- Convert personality (introvert/extrovert) and work style (solo/team) into numeric values\n",
    "- Save a clean CSV with scores for later use in synergy calculator\n"
   ]
  },
  {
   "cell_type": "code",
   "execution_count": 9,
   "id": "c6d2bcd4",
   "metadata": {},
   "outputs": [
    {
     "name": "stdout",
     "output_type": "stream",
     "text": [
      "✅ Trait scores saved to employee_trait_scores.csv\n"
     ]
    }
   ],
   "source": [
    "import pandas as pd  # For reading and saving data\n",
    "\n",
    "# Load employee profiles\n",
    "df = pd.read_csv(\"employee_profiles.csv\")\n",
    "df[\"Work Style\"] = df[\"Work Style\"].str.strip().str.lower()\n",
    "# Define scoring logic\n",
    "def score_personality(p):\n",
    "    if p == \"introvert\":\n",
    "        return 1\n",
    "    elif p == \"extrovert\":\n",
    "        return 3\n",
    "    else:\n",
    "        return 2  # neutral or unknown\n",
    "\n",
    "def score_work_style(w):\n",
    "    if w == \"solo\":\n",
    "        return 1\n",
    "    elif w == \"team\":\n",
    "        return 3\n",
    "    else:\n",
    "        return 2  # neutral or unknown\n",
    "\n",
    "# Apply scores to each row\n",
    "df[\"Personality Score\"] = df[\"Personality\"].apply(score_personality)\n",
    "df[\"Work Style Score\"] = df[\"Work Style\"].apply(score_work_style)\n",
    "\n",
    "# Save scored data\n",
    "df.to_csv(\"employee_trait_scores.csv\", index=False)\n",
    "print(\"✅ Trait scores saved to employee_trait_scores.csv\")"
   ]
  }
 ],
 "metadata": {
  "kernelspec": {
   "display_name": "Python 3",
   "language": "python",
   "name": "python3"
  },
  "language_info": {
   "codemirror_mode": {
    "name": "ipython",
    "version": 3
   },
   "file_extension": ".py",
   "mimetype": "text/x-python",
   "name": "python",
   "nbconvert_exporter": "python",
   "pygments_lexer": "ipython3",
   "version": "3.13.5"
  }
 },
 "nbformat": 4,
 "nbformat_minor": 5
}
