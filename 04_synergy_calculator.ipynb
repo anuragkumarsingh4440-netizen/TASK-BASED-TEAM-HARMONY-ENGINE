{
 "cells": [
  {
   "cell_type": "markdown",
   "id": "2dd5a3f1",
   "metadata": {},
   "source": [
    "Purpose:\n",
    "Calculate how well employees might work together based on:\n",
    "- Personality Score (introvert = 1, extrovert = 3)\n",
    "- Work Style Score (solo = 1, team = 3)\n",
    "We’ll use a simple formula to estimate team synergy between any two employees.\n"
   ]
  },
  {
   "cell_type": "markdown",
   "id": "ee954818",
   "metadata": {},
   "source": [
    " How It Works:\n",
    "- Perfect match (same personality + same work style) → score = 6\n",
    "- Big mismatch → score drops\n"
   ]
  },
  {
   "cell_type": "code",
   "execution_count": 7,
   "id": "adbd9e64",
   "metadata": {},
   "outputs": [
    {
     "name": "stdout",
     "output_type": "stream",
     "text": [
      "✅ Synergy scores saved to employee_synergy_scores.csv\n"
     ]
    }
   ],
   "source": [
    "import pandas as pd\n",
    "from itertools import combinations\n",
    "\n",
    "# Load employee trait scores\n",
    "df = pd.read_csv(\"employee_trait_scores.csv\")\n",
    "\n",
    "# Create all possible 2-person combinations\n",
    "pairs = list(combinations(df.to_dict(\"records\"), 2))\n",
    "\n",
    "# Function to calculate synergy score\n",
    "def calculate_synergy(emp1, emp2):\n",
    "    # Difference in personality and work style\n",
    "    personality_gap = abs(emp1[\"Personality Score\"] - emp2[\"Personality Score\"])\n",
    "    work_style_gap = abs(emp1[\"Work Style Score\"] - emp2[\"Work Style Score\"])\n",
    "    \n",
    "    # Lower gap means better synergy\n",
    "    synergy = 6 - (personality_gap + work_style_gap)\n",
    "    return max(synergy, 0)  # keep score non-negative\n",
    "\n",
    "# Store synergy results\n",
    "synergy_data = []\n",
    "\n",
    "for emp1, emp2 in pairs:\n",
    "    score = calculate_synergy(emp1, emp2)\n",
    "    synergy_data.append({\n",
    "        \"Employee 1\": emp1[\"Name\"],\n",
    "        \"Employee 2\": emp2[\"Name\"],\n",
    "        \"Synergy Score\": score\n",
    "    })\n",
    "\n",
    "# Save synergy scores\n",
    "df_synergy = pd.DataFrame(synergy_data)\n",
    "df_synergy.to_csv(\"employee_synergy_scores.csv\", index=False)\n",
    "print(\"✅ Synergy scores saved to employee_synergy_scores.csv\")"
   ]
  }
 ],
 "metadata": {
  "kernelspec": {
   "display_name": "Python 3",
   "language": "python",
   "name": "python3"
  },
  "language_info": {
   "codemirror_mode": {
    "name": "ipython",
    "version": 3
   },
   "file_extension": ".py",
   "mimetype": "text/x-python",
   "name": "python",
   "nbconvert_exporter": "python",
   "pygments_lexer": "ipython3",
   "version": "3.13.5"
  }
 },
 "nbformat": 4,
 "nbformat_minor": 5
}
