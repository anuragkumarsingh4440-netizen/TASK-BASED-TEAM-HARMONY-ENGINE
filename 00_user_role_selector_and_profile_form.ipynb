{
 "cells": [
  {
   "cell_type": "code",
   "execution_count": 3,
   "id": "0a16a5a5",
   "metadata": {},
   "outputs": [
    {
     "name": "stdout",
     "output_type": "stream",
     "text": [
      "Welcome to the Team Harmony System\n",
      "\n",
      "⚠️ Invalid input. Please restart and type either 'Employee' or 'Admin'\n"
     ]
    }
   ],
   "source": [
    "import pandas as pd  # For handling and saving data\n",
    "\n",
    "# Ask user to choose their role\n",
    "print(\"Welcome to the Team Harmony System\")\n",
    "role_type = input(\"Are you an Employee or Admin? Type 'Employee' or 'Admin': \").strip().lower()\n",
    "\n",
    "# If user is Employee, show profile form\n",
    "if role_type == \"employee\":\n",
    "    employee_list = []\n",
    "\n",
    "    while True:\n",
    "        print(\"\\nEnter Employee Details\")\n",
    "\n",
    "        name = input(\"Full Name: \").strip().lower()\n",
    "        email = input(\"Email: \").strip().lower()\n",
    "        job_role = input(\"Role (e.g. Developer or Analyst): \").strip().lower()\n",
    "        experience = int(input(\"Years of Experience: \"))\n",
    "        skills = input(\"Skills (separated by commas): \").strip().lower()\n",
    "        availability = input(\"Availability (Full-Time, Part-Time, Freelance): \").strip().lower()\n",
    "\n",
    "        # Ask about personality type\n",
    "        personality = input(\"Are you more introverted or extroverted? \").strip().lower()\n",
    "\n",
    "        # Ask about working style\n",
    "        work_style = input(\"Do you prefer working solo or in a team? \").strip().lower()\n",
    "\n",
    "        employee = {\n",
    "            \"Name\": name,\n",
    "            \"Email\": email,\n",
    "            \"Role\": job_role,\n",
    "            \"Experience\": experience,\n",
    "            \"Skills\": skills,\n",
    "            \"Availability\": availability,\n",
    "            \"Personality\": personality,\n",
    "            \"Work Style\": work_style\n",
    "        }\n",
    "\n",
    "        employee_list.append(employee)\n",
    "\n",
    "        more = input(\"Add another employee? Type 'y' for yes or anything else to stop: \").strip().lower()\n",
    "        if more != 'y':\n",
    "            break\n",
    "\n",
    "    # Save all profiles to CSV\n",
    "    df = pd.DataFrame(employee_list)\n",
    "    df.to_csv(\"employee_profiles.csv\", index=False)\n",
    "    print(\"\\n✅ All profiles saved to employee_profiles.csv\")\n",
    "\n",
    "# If user is Admin, show message\n",
    "elif role_type == \"admin\":\n",
    "    print(\"\\n🔐 Admin access detected\")\n",
    "    print(\"You can enter task details in the next notebook\")\n",
    "\n",
    "# If user enters something else\n",
    "else:\n",
    "    print(\"\\n⚠️ Invalid input. Please restart and type either 'Employee' or 'Admin'\")"
   ]
  }
 ],
 "metadata": {
  "kernelspec": {
   "display_name": "Python 3",
   "language": "python",
   "name": "python3"
  },
  "language_info": {
   "codemirror_mode": {
    "name": "ipython",
    "version": 3
   },
   "file_extension": ".py",
   "mimetype": "text/x-python",
   "name": "python",
   "nbconvert_exporter": "python",
   "pygments_lexer": "ipython3",
   "version": "3.13.5"
  }
 },
 "nbformat": 4,
 "nbformat_minor": 5
}
