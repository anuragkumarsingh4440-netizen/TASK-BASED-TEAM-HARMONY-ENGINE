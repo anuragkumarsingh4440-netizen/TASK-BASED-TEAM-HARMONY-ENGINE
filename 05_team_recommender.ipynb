{
 "cells": [
  {
   "cell_type": "markdown",
   "id": "43074809",
   "metadata": {},
   "source": [
    "Purpose:\n",
    "Suggest best-fit teams and solo performers based on:\n",
    "- Skill Match Score (from earlier module)\n",
    "- Synergy Score (from the last module)\n",
    "We’ll rank combinations and recommend:\n",
    "- Top 3-person teams\n",
    "- Top solo performers for tasks needing individual focus\n"
   ]
  },
  {
   "cell_type": "code",
   "execution_count": 6,
   "id": "e81a3d1e",
   "metadata": {},
   "outputs": [
    {
     "name": "stdout",
     "output_type": "stream",
     "text": [
      "✅ Team and solo recommendations saved.\n"
     ]
    }
   ],
   "source": [
    "import pandas as pd\n",
    "from itertools import combinations\n",
    "\n",
    "# Load skill match and synergy scores\n",
    "df_skill = pd.read_csv(\"skill_match_scores.csv\")\n",
    "df_synergy = pd.read_csv(\"employee_synergy_scores.csv\")\n",
    "\n",
    "# Clean column names if needed\n",
    "df_skill.columns = [col.strip() for col in df_skill.columns]\n",
    "df_synergy.columns = [col.strip() for col in df_synergy.columns]\n",
    "\n",
    "# Get unique employees\n",
    "employees = df_skill[\"Employee Name\"].unique()\n",
    "team_combos = list(combinations(employees, 3))\n",
    "\n",
    "# Function to get synergy score between two employees\n",
    "def get_synergy(emp1, emp2):\n",
    "    match = df_synergy[\n",
    "        ((df_synergy[\"Employee 1\"] == emp1) & (df_synergy[\"Employee 2\"] == emp2)) |\n",
    "        ((df_synergy[\"Employee 1\"] == emp2) & (df_synergy[\"Employee 2\"] == emp1))\n",
    "    ]\n",
    "    return match[\"Synergy Score\"].values[0] if not match.empty else 0\n",
    "\n",
    "# Build team scores\n",
    "team_scores = []\n",
    "\n",
    "for team in team_combos:\n",
    "    # Filter skill scores for this team\n",
    "    skill_total = df_skill[df_skill[\"Employee Name\"].isin(team)][\"Match Score\"].sum()\n",
    "\n",
    "    # Calculate synergy between all pairs\n",
    "    synergy_total = (\n",
    "        get_synergy(team[0], team[1]) +\n",
    "        get_synergy(team[0], team[2]) +\n",
    "        get_synergy(team[1], team[2])\n",
    "    )\n",
    "\n",
    "    team_scores.append({\n",
    "        \"Team Members\": \", \".join(team),\n",
    "        \"Skill Score\": skill_total,\n",
    "        \"Synergy Score\": synergy_total,\n",
    "        \"Total Score\": skill_total + synergy_total\n",
    "    })\n",
    "\n",
    "# Recommend top solo performers\n",
    "solo_scores = df_skill.sort_values(by=\"Match Score\", ascending=False)[[\"Employee Name\", \"Match Score\"]]\n",
    "\n",
    "# Save results\n",
    "df_teams = pd.DataFrame(team_scores).sort_values(by=\"Total Score\", ascending=False)\n",
    "df_teams.to_csv(\"top_team_recommendations.csv\", index=False)\n",
    "solo_scores.to_csv(\"top_solo_recommendations.csv\", index=False)\n",
    "\n",
    "print(\"✅ Team and solo recommendations saved.\")"
   ]
  }
 ],
 "metadata": {
  "kernelspec": {
   "display_name": "Python 3",
   "language": "python",
   "name": "python3"
  },
  "language_info": {
   "codemirror_mode": {
    "name": "ipython",
    "version": 3
   },
   "file_extension": ".py",
   "mimetype": "text/x-python",
   "name": "python",
   "nbconvert_exporter": "python",
   "pygments_lexer": "ipython3",
   "version": "3.13.5"
  }
 },
 "nbformat": 4,
 "nbformat_minor": 5
}
